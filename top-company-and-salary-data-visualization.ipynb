{
 "cells": [
  {
   "cell_type": "code",
   "execution_count": 1,
   "id": "2f8e0858",
   "metadata": {
    "_cell_guid": "b1076dfc-b9ad-4769-8c92-a6c4dae69d19",
    "_uuid": "8f2839f25d086af736a60e9eeb907d3b93b6e0e5",
    "execution": {
     "iopub.execute_input": "2021-11-10T09:41:57.328102Z",
     "iopub.status.busy": "2021-11-10T09:41:57.326283Z",
     "iopub.status.idle": "2021-11-10T09:41:57.347910Z",
     "shell.execute_reply": "2021-11-10T09:41:57.348523Z",
     "shell.execute_reply.started": "2021-11-10T09:40:22.512280Z"
    },
    "papermill": {
     "duration": 0.057584,
     "end_time": "2021-11-10T09:41:57.348833",
     "exception": false,
     "start_time": "2021-11-10T09:41:57.291249",
     "status": "completed"
    },
    "tags": []
   },
   "outputs": [
    {
     "name": "stdout",
     "output_type": "stream",
     "text": [
      "/kaggle/input/data-science-and-stem-salaries/Levels_Fyi_Salary_Data.csv\n"
     ]
    }
   ],
   "source": [
    "# This Python 3 environment comes with many helpful analytics libraries installed\n",
    "# It is defined by the kaggle/python Docker image: https://github.com/kaggle/docker-python\n",
    "# For example, here's several helpful packages to load\n",
    "\n",
    "import numpy as np # linear algebra\n",
    "import pandas as pd # data processing, CSV file I/O (e.g. pd.read_csv)\n",
    "\n",
    "# Input data files are available in the read-only \"../input/\" directory\n",
    "# For example, running this (by clicking run or pressing Shift+Enter) will list all files under the input directory\n",
    "\n",
    "import os\n",
    "for dirname, _, filenames in os.walk('/kaggle/input'):\n",
    "    for filename in filenames:\n",
    "        print(os.path.join(dirname, filename))\n",
    "\n",
    "# You can write up to 20GB to the current directory (/kaggle/working/) that gets preserved as output when you create a version using \"Save & Run All\" \n",
    "# You can also write temporary files to /kaggle/temp/, but they won't be saved outside of the current session"
   ]
  },
  {
   "cell_type": "markdown",
   "id": "84957c65",
   "metadata": {
    "papermill": {
     "duration": 0.027125,
     "end_time": "2021-11-10T09:41:57.404494",
     "exception": false,
     "start_time": "2021-11-10T09:41:57.377369",
     "status": "completed"
    },
    "tags": []
   },
   "source": [
    "# Import Dependencies"
   ]
  },
  {
   "cell_type": "code",
   "execution_count": 2,
   "id": "ebf11cc5",
   "metadata": {
    "execution": {
     "iopub.execute_input": "2021-11-10T09:41:57.463111Z",
     "iopub.status.busy": "2021-11-10T09:41:57.462145Z",
     "iopub.status.idle": "2021-11-10T09:41:58.452151Z",
     "shell.execute_reply": "2021-11-10T09:41:58.451531Z",
     "shell.execute_reply.started": "2021-11-10T09:40:22.555731Z"
    },
    "papermill": {
     "duration": 1.020491,
     "end_time": "2021-11-10T09:41:58.452346",
     "exception": false,
     "start_time": "2021-11-10T09:41:57.431855",
     "status": "completed"
    },
    "tags": []
   },
   "outputs": [],
   "source": [
    "import matplotlib.pyplot as plt\n",
    "import seaborn as sns"
   ]
  },
  {
   "cell_type": "code",
   "execution_count": 3,
   "id": "6c68bb88",
   "metadata": {
    "execution": {
     "iopub.execute_input": "2021-11-10T09:41:58.510949Z",
     "iopub.status.busy": "2021-11-10T09:41:58.509998Z",
     "iopub.status.idle": "2021-11-10T09:41:59.085225Z",
     "shell.execute_reply": "2021-11-10T09:41:59.084035Z",
     "shell.execute_reply.started": "2021-11-10T09:40:23.566116Z"
    },
    "papermill": {
     "duration": 0.605733,
     "end_time": "2021-11-10T09:41:59.085391",
     "exception": false,
     "start_time": "2021-11-10T09:41:58.479658",
     "status": "completed"
    },
    "tags": []
   },
   "outputs": [],
   "source": [
    "df = pd.read_csv('/kaggle/input/data-science-and-stem-salaries/Levels_Fyi_Salary_Data.csv')"
   ]
  },
  {
   "cell_type": "markdown",
   "id": "ba30edeb",
   "metadata": {
    "papermill": {
     "duration": 0.026735,
     "end_time": "2021-11-10T09:41:59.139314",
     "exception": false,
     "start_time": "2021-11-10T09:41:59.112579",
     "status": "completed"
    },
    "tags": []
   },
   "source": [
    "# Data Cleaning"
   ]
  },
  {
   "cell_type": "code",
   "execution_count": 4,
   "id": "3daea671",
   "metadata": {
    "execution": {
     "iopub.execute_input": "2021-11-10T09:41:59.198560Z",
     "iopub.status.busy": "2021-11-10T09:41:59.197579Z",
     "iopub.status.idle": "2021-11-10T09:41:59.238321Z",
     "shell.execute_reply": "2021-11-10T09:41:59.237690Z",
     "shell.execute_reply.started": "2021-11-10T09:40:24.214388Z"
    },
    "papermill": {
     "duration": 0.070821,
     "end_time": "2021-11-10T09:41:59.238504",
     "exception": false,
     "start_time": "2021-11-10T09:41:59.167683",
     "status": "completed"
    },
    "tags": []
   },
   "outputs": [
    {
     "data": {
      "text/html": [
       "<div>\n",
       "<style scoped>\n",
       "    .dataframe tbody tr th:only-of-type {\n",
       "        vertical-align: middle;\n",
       "    }\n",
       "\n",
       "    .dataframe tbody tr th {\n",
       "        vertical-align: top;\n",
       "    }\n",
       "\n",
       "    .dataframe thead th {\n",
       "        text-align: right;\n",
       "    }\n",
       "</style>\n",
       "<table border=\"1\" class=\"dataframe\">\n",
       "  <thead>\n",
       "    <tr style=\"text-align: right;\">\n",
       "      <th></th>\n",
       "      <th>timestamp</th>\n",
       "      <th>company</th>\n",
       "      <th>level</th>\n",
       "      <th>title</th>\n",
       "      <th>totalyearlycompensation</th>\n",
       "      <th>location</th>\n",
       "      <th>yearsofexperience</th>\n",
       "      <th>yearsatcompany</th>\n",
       "      <th>tag</th>\n",
       "      <th>basesalary</th>\n",
       "      <th>...</th>\n",
       "      <th>Doctorate_Degree</th>\n",
       "      <th>Highschool</th>\n",
       "      <th>Some_College</th>\n",
       "      <th>Race_Asian</th>\n",
       "      <th>Race_White</th>\n",
       "      <th>Race_Two_Or_More</th>\n",
       "      <th>Race_Black</th>\n",
       "      <th>Race_Hispanic</th>\n",
       "      <th>Race</th>\n",
       "      <th>Education</th>\n",
       "    </tr>\n",
       "  </thead>\n",
       "  <tbody>\n",
       "    <tr>\n",
       "      <th>0</th>\n",
       "      <td>6/7/2017 11:33:27</td>\n",
       "      <td>Oracle</td>\n",
       "      <td>L3</td>\n",
       "      <td>Product Manager</td>\n",
       "      <td>127000</td>\n",
       "      <td>Redwood City, CA</td>\n",
       "      <td>1.5</td>\n",
       "      <td>1.5</td>\n",
       "      <td>NaN</td>\n",
       "      <td>107000.0</td>\n",
       "      <td>...</td>\n",
       "      <td>0</td>\n",
       "      <td>0</td>\n",
       "      <td>0</td>\n",
       "      <td>0</td>\n",
       "      <td>0</td>\n",
       "      <td>0</td>\n",
       "      <td>0</td>\n",
       "      <td>0</td>\n",
       "      <td>NaN</td>\n",
       "      <td>NaN</td>\n",
       "    </tr>\n",
       "    <tr>\n",
       "      <th>1</th>\n",
       "      <td>6/10/2017 17:11:29</td>\n",
       "      <td>eBay</td>\n",
       "      <td>SE 2</td>\n",
       "      <td>Software Engineer</td>\n",
       "      <td>100000</td>\n",
       "      <td>San Francisco, CA</td>\n",
       "      <td>5.0</td>\n",
       "      <td>3.0</td>\n",
       "      <td>NaN</td>\n",
       "      <td>0.0</td>\n",
       "      <td>...</td>\n",
       "      <td>0</td>\n",
       "      <td>0</td>\n",
       "      <td>0</td>\n",
       "      <td>0</td>\n",
       "      <td>0</td>\n",
       "      <td>0</td>\n",
       "      <td>0</td>\n",
       "      <td>0</td>\n",
       "      <td>NaN</td>\n",
       "      <td>NaN</td>\n",
       "    </tr>\n",
       "    <tr>\n",
       "      <th>2</th>\n",
       "      <td>6/11/2017 14:53:57</td>\n",
       "      <td>Amazon</td>\n",
       "      <td>L7</td>\n",
       "      <td>Product Manager</td>\n",
       "      <td>310000</td>\n",
       "      <td>Seattle, WA</td>\n",
       "      <td>8.0</td>\n",
       "      <td>0.0</td>\n",
       "      <td>NaN</td>\n",
       "      <td>155000.0</td>\n",
       "      <td>...</td>\n",
       "      <td>0</td>\n",
       "      <td>0</td>\n",
       "      <td>0</td>\n",
       "      <td>0</td>\n",
       "      <td>0</td>\n",
       "      <td>0</td>\n",
       "      <td>0</td>\n",
       "      <td>0</td>\n",
       "      <td>NaN</td>\n",
       "      <td>NaN</td>\n",
       "    </tr>\n",
       "    <tr>\n",
       "      <th>3</th>\n",
       "      <td>6/17/2017 0:23:14</td>\n",
       "      <td>Apple</td>\n",
       "      <td>M1</td>\n",
       "      <td>Software Engineering Manager</td>\n",
       "      <td>372000</td>\n",
       "      <td>Sunnyvale, CA</td>\n",
       "      <td>7.0</td>\n",
       "      <td>5.0</td>\n",
       "      <td>NaN</td>\n",
       "      <td>157000.0</td>\n",
       "      <td>...</td>\n",
       "      <td>0</td>\n",
       "      <td>0</td>\n",
       "      <td>0</td>\n",
       "      <td>0</td>\n",
       "      <td>0</td>\n",
       "      <td>0</td>\n",
       "      <td>0</td>\n",
       "      <td>0</td>\n",
       "      <td>NaN</td>\n",
       "      <td>NaN</td>\n",
       "    </tr>\n",
       "    <tr>\n",
       "      <th>4</th>\n",
       "      <td>6/20/2017 10:58:51</td>\n",
       "      <td>Microsoft</td>\n",
       "      <td>60</td>\n",
       "      <td>Software Engineer</td>\n",
       "      <td>157000</td>\n",
       "      <td>Mountain View, CA</td>\n",
       "      <td>5.0</td>\n",
       "      <td>3.0</td>\n",
       "      <td>NaN</td>\n",
       "      <td>0.0</td>\n",
       "      <td>...</td>\n",
       "      <td>0</td>\n",
       "      <td>0</td>\n",
       "      <td>0</td>\n",
       "      <td>0</td>\n",
       "      <td>0</td>\n",
       "      <td>0</td>\n",
       "      <td>0</td>\n",
       "      <td>0</td>\n",
       "      <td>NaN</td>\n",
       "      <td>NaN</td>\n",
       "    </tr>\n",
       "  </tbody>\n",
       "</table>\n",
       "<p>5 rows × 29 columns</p>\n",
       "</div>"
      ],
      "text/plain": [
       "            timestamp    company level                         title  \\\n",
       "0   6/7/2017 11:33:27     Oracle    L3               Product Manager   \n",
       "1  6/10/2017 17:11:29       eBay  SE 2             Software Engineer   \n",
       "2  6/11/2017 14:53:57     Amazon    L7               Product Manager   \n",
       "3   6/17/2017 0:23:14      Apple    M1  Software Engineering Manager   \n",
       "4  6/20/2017 10:58:51  Microsoft    60             Software Engineer   \n",
       "\n",
       "   totalyearlycompensation           location  yearsofexperience  \\\n",
       "0                   127000   Redwood City, CA                1.5   \n",
       "1                   100000  San Francisco, CA                5.0   \n",
       "2                   310000        Seattle, WA                8.0   \n",
       "3                   372000      Sunnyvale, CA                7.0   \n",
       "4                   157000  Mountain View, CA                5.0   \n",
       "\n",
       "   yearsatcompany  tag  basesalary  ...  Doctorate_Degree  Highschool  \\\n",
       "0             1.5  NaN    107000.0  ...                 0           0   \n",
       "1             3.0  NaN         0.0  ...                 0           0   \n",
       "2             0.0  NaN    155000.0  ...                 0           0   \n",
       "3             5.0  NaN    157000.0  ...                 0           0   \n",
       "4             3.0  NaN         0.0  ...                 0           0   \n",
       "\n",
       "  Some_College Race_Asian  Race_White  Race_Two_Or_More  Race_Black  \\\n",
       "0            0          0           0                 0           0   \n",
       "1            0          0           0                 0           0   \n",
       "2            0          0           0                 0           0   \n",
       "3            0          0           0                 0           0   \n",
       "4            0          0           0                 0           0   \n",
       "\n",
       "   Race_Hispanic  Race  Education  \n",
       "0              0   NaN        NaN  \n",
       "1              0   NaN        NaN  \n",
       "2              0   NaN        NaN  \n",
       "3              0   NaN        NaN  \n",
       "4              0   NaN        NaN  \n",
       "\n",
       "[5 rows x 29 columns]"
      ]
     },
     "execution_count": 4,
     "metadata": {},
     "output_type": "execute_result"
    }
   ],
   "source": [
    "df.head()"
   ]
  },
  {
   "cell_type": "code",
   "execution_count": 5,
   "id": "d3afe839",
   "metadata": {
    "execution": {
     "iopub.execute_input": "2021-11-10T09:41:59.302496Z",
     "iopub.status.busy": "2021-11-10T09:41:59.301810Z",
     "iopub.status.idle": "2021-11-10T09:41:59.388612Z",
     "shell.execute_reply": "2021-11-10T09:41:59.389186Z",
     "shell.execute_reply.started": "2021-11-10T09:40:24.254062Z"
    },
    "papermill": {
     "duration": 0.122368,
     "end_time": "2021-11-10T09:41:59.389406",
     "exception": false,
     "start_time": "2021-11-10T09:41:59.267038",
     "status": "completed"
    },
    "tags": []
   },
   "outputs": [
    {
     "name": "stdout",
     "output_type": "stream",
     "text": [
      "<class 'pandas.core.frame.DataFrame'>\n",
      "RangeIndex: 62642 entries, 0 to 62641\n",
      "Data columns (total 29 columns):\n",
      " #   Column                   Non-Null Count  Dtype  \n",
      "---  ------                   --------------  -----  \n",
      " 0   timestamp                62642 non-null  object \n",
      " 1   company                  62637 non-null  object \n",
      " 2   level                    62523 non-null  object \n",
      " 3   title                    62642 non-null  object \n",
      " 4   totalyearlycompensation  62642 non-null  int64  \n",
      " 5   location                 62642 non-null  object \n",
      " 6   yearsofexperience        62642 non-null  float64\n",
      " 7   yearsatcompany           62642 non-null  float64\n",
      " 8   tag                      61788 non-null  object \n",
      " 9   basesalary               62642 non-null  float64\n",
      " 10  stockgrantvalue          62642 non-null  float64\n",
      " 11  bonus                    62642 non-null  float64\n",
      " 12  gender                   43102 non-null  object \n",
      " 13  otherdetails             40137 non-null  object \n",
      " 14  cityid                   62642 non-null  int64  \n",
      " 15  dmaid                    62640 non-null  float64\n",
      " 16  rowNumber                62642 non-null  int64  \n",
      " 17  Masters_Degree           62642 non-null  int64  \n",
      " 18  Bachelors_Degree         62642 non-null  int64  \n",
      " 19  Doctorate_Degree         62642 non-null  int64  \n",
      " 20  Highschool               62642 non-null  int64  \n",
      " 21  Some_College             62642 non-null  int64  \n",
      " 22  Race_Asian               62642 non-null  int64  \n",
      " 23  Race_White               62642 non-null  int64  \n",
      " 24  Race_Two_Or_More         62642 non-null  int64  \n",
      " 25  Race_Black               62642 non-null  int64  \n",
      " 26  Race_Hispanic            62642 non-null  int64  \n",
      " 27  Race                     22427 non-null  object \n",
      " 28  Education                30370 non-null  object \n",
      "dtypes: float64(6), int64(13), object(10)\n",
      "memory usage: 13.9+ MB\n"
     ]
    }
   ],
   "source": [
    "df.info()"
   ]
  },
  {
   "cell_type": "code",
   "execution_count": 6,
   "id": "320d89d0",
   "metadata": {
    "execution": {
     "iopub.execute_input": "2021-11-10T09:41:59.514149Z",
     "iopub.status.busy": "2021-11-10T09:41:59.451777Z",
     "iopub.status.idle": "2021-11-10T09:41:59.522858Z",
     "shell.execute_reply": "2021-11-10T09:41:59.523535Z",
     "shell.execute_reply.started": "2021-11-10T09:40:24.345564Z"
    },
    "papermill": {
     "duration": 0.105575,
     "end_time": "2021-11-10T09:41:59.523806",
     "exception": false,
     "start_time": "2021-11-10T09:41:59.418231",
     "status": "completed"
    },
    "tags": []
   },
   "outputs": [
    {
     "data": {
      "text/plain": [
       "timestamp                      0\n",
       "company                        5\n",
       "level                        119\n",
       "title                          0\n",
       "totalyearlycompensation        0\n",
       "location                       0\n",
       "yearsofexperience              0\n",
       "yearsatcompany                 0\n",
       "tag                          854\n",
       "basesalary                     0\n",
       "stockgrantvalue                0\n",
       "bonus                          0\n",
       "gender                     19540\n",
       "otherdetails               22505\n",
       "cityid                         0\n",
       "dmaid                          2\n",
       "rowNumber                      0\n",
       "Masters_Degree                 0\n",
       "Bachelors_Degree               0\n",
       "Doctorate_Degree               0\n",
       "Highschool                     0\n",
       "Some_College                   0\n",
       "Race_Asian                     0\n",
       "Race_White                     0\n",
       "Race_Two_Or_More               0\n",
       "Race_Black                     0\n",
       "Race_Hispanic                  0\n",
       "Race                       40215\n",
       "Education                  32272\n",
       "dtype: int64"
      ]
     },
     "execution_count": 6,
     "metadata": {},
     "output_type": "execute_result"
    }
   ],
   "source": [
    "df.isnull().sum()"
   ]
  },
  {
   "cell_type": "code",
   "execution_count": 7,
   "id": "ffa3245b",
   "metadata": {
    "execution": {
     "iopub.execute_input": "2021-11-10T09:41:59.588022Z",
     "iopub.status.busy": "2021-11-10T09:41:59.587331Z",
     "iopub.status.idle": "2021-11-10T09:41:59.591138Z",
     "shell.execute_reply": "2021-11-10T09:41:59.590543Z",
     "shell.execute_reply.started": "2021-11-10T09:40:24.422813Z"
    },
    "papermill": {
     "duration": 0.038015,
     "end_time": "2021-11-10T09:41:59.591302",
     "exception": false,
     "start_time": "2021-11-10T09:41:59.553287",
     "status": "completed"
    },
    "tags": []
   },
   "outputs": [
    {
     "data": {
      "text/plain": [
       "(62642, 29)"
      ]
     },
     "execution_count": 7,
     "metadata": {},
     "output_type": "execute_result"
    }
   ],
   "source": [
    "df.shape"
   ]
  },
  {
   "cell_type": "code",
   "execution_count": 8,
   "id": "ce391b0a",
   "metadata": {
    "execution": {
     "iopub.execute_input": "2021-11-10T09:41:59.654859Z",
     "iopub.status.busy": "2021-11-10T09:41:59.654208Z",
     "iopub.status.idle": "2021-11-10T09:41:59.666481Z",
     "shell.execute_reply": "2021-11-10T09:41:59.667018Z",
     "shell.execute_reply.started": "2021-11-10T09:40:24.432599Z"
    },
    "papermill": {
     "duration": 0.046542,
     "end_time": "2021-11-10T09:41:59.667282",
     "exception": false,
     "start_time": "2021-11-10T09:41:59.620740",
     "status": "completed"
    },
    "tags": []
   },
   "outputs": [],
   "source": [
    "new_df = df[['company',\n",
    "            'level',\n",
    "            'title' , \n",
    "            'totalyearlycompensation',\n",
    "            'location',\n",
    "            'yearsofexperience' ,            \n",
    "            'yearsatcompany',               \n",
    "            'basesalary',                    \n",
    "            'stockgrantvalue',                \n",
    "            'bonus',                          \n",
    "            'gender',         \n",
    "            'Masters_Degree',                 \n",
    "            'Bachelors_Degree',               \n",
    "            'Doctorate_Degree',              \n",
    "            'Highschool' ]      \n",
    "]"
   ]
  },
  {
   "cell_type": "code",
   "execution_count": 9,
   "id": "585a49a9",
   "metadata": {
    "execution": {
     "iopub.execute_input": "2021-11-10T09:41:59.731124Z",
     "iopub.status.busy": "2021-11-10T09:41:59.730431Z",
     "iopub.status.idle": "2021-11-10T09:41:59.748813Z",
     "shell.execute_reply": "2021-11-10T09:41:59.749394Z",
     "shell.execute_reply.started": "2021-11-10T09:40:24.454188Z"
    },
    "papermill": {
     "duration": 0.052143,
     "end_time": "2021-11-10T09:41:59.749607",
     "exception": false,
     "start_time": "2021-11-10T09:41:59.697464",
     "status": "completed"
    },
    "tags": []
   },
   "outputs": [
    {
     "data": {
      "text/html": [
       "<div>\n",
       "<style scoped>\n",
       "    .dataframe tbody tr th:only-of-type {\n",
       "        vertical-align: middle;\n",
       "    }\n",
       "\n",
       "    .dataframe tbody tr th {\n",
       "        vertical-align: top;\n",
       "    }\n",
       "\n",
       "    .dataframe thead th {\n",
       "        text-align: right;\n",
       "    }\n",
       "</style>\n",
       "<table border=\"1\" class=\"dataframe\">\n",
       "  <thead>\n",
       "    <tr style=\"text-align: right;\">\n",
       "      <th></th>\n",
       "      <th>company</th>\n",
       "      <th>level</th>\n",
       "      <th>title</th>\n",
       "      <th>totalyearlycompensation</th>\n",
       "      <th>location</th>\n",
       "      <th>yearsofexperience</th>\n",
       "      <th>yearsatcompany</th>\n",
       "      <th>basesalary</th>\n",
       "      <th>stockgrantvalue</th>\n",
       "      <th>bonus</th>\n",
       "      <th>gender</th>\n",
       "      <th>Masters_Degree</th>\n",
       "      <th>Bachelors_Degree</th>\n",
       "      <th>Doctorate_Degree</th>\n",
       "      <th>Highschool</th>\n",
       "    </tr>\n",
       "  </thead>\n",
       "  <tbody>\n",
       "    <tr>\n",
       "      <th>0</th>\n",
       "      <td>Oracle</td>\n",
       "      <td>L3</td>\n",
       "      <td>Product Manager</td>\n",
       "      <td>127000</td>\n",
       "      <td>Redwood City, CA</td>\n",
       "      <td>1.5</td>\n",
       "      <td>1.5</td>\n",
       "      <td>107000.0</td>\n",
       "      <td>20000.0</td>\n",
       "      <td>10000.0</td>\n",
       "      <td>NaN</td>\n",
       "      <td>0</td>\n",
       "      <td>0</td>\n",
       "      <td>0</td>\n",
       "      <td>0</td>\n",
       "    </tr>\n",
       "    <tr>\n",
       "      <th>1</th>\n",
       "      <td>eBay</td>\n",
       "      <td>SE 2</td>\n",
       "      <td>Software Engineer</td>\n",
       "      <td>100000</td>\n",
       "      <td>San Francisco, CA</td>\n",
       "      <td>5.0</td>\n",
       "      <td>3.0</td>\n",
       "      <td>0.0</td>\n",
       "      <td>0.0</td>\n",
       "      <td>0.0</td>\n",
       "      <td>NaN</td>\n",
       "      <td>0</td>\n",
       "      <td>0</td>\n",
       "      <td>0</td>\n",
       "      <td>0</td>\n",
       "    </tr>\n",
       "    <tr>\n",
       "      <th>2</th>\n",
       "      <td>Amazon</td>\n",
       "      <td>L7</td>\n",
       "      <td>Product Manager</td>\n",
       "      <td>310000</td>\n",
       "      <td>Seattle, WA</td>\n",
       "      <td>8.0</td>\n",
       "      <td>0.0</td>\n",
       "      <td>155000.0</td>\n",
       "      <td>0.0</td>\n",
       "      <td>0.0</td>\n",
       "      <td>NaN</td>\n",
       "      <td>0</td>\n",
       "      <td>0</td>\n",
       "      <td>0</td>\n",
       "      <td>0</td>\n",
       "    </tr>\n",
       "    <tr>\n",
       "      <th>3</th>\n",
       "      <td>Apple</td>\n",
       "      <td>M1</td>\n",
       "      <td>Software Engineering Manager</td>\n",
       "      <td>372000</td>\n",
       "      <td>Sunnyvale, CA</td>\n",
       "      <td>7.0</td>\n",
       "      <td>5.0</td>\n",
       "      <td>157000.0</td>\n",
       "      <td>180000.0</td>\n",
       "      <td>35000.0</td>\n",
       "      <td>NaN</td>\n",
       "      <td>0</td>\n",
       "      <td>0</td>\n",
       "      <td>0</td>\n",
       "      <td>0</td>\n",
       "    </tr>\n",
       "    <tr>\n",
       "      <th>4</th>\n",
       "      <td>Microsoft</td>\n",
       "      <td>60</td>\n",
       "      <td>Software Engineer</td>\n",
       "      <td>157000</td>\n",
       "      <td>Mountain View, CA</td>\n",
       "      <td>5.0</td>\n",
       "      <td>3.0</td>\n",
       "      <td>0.0</td>\n",
       "      <td>0.0</td>\n",
       "      <td>0.0</td>\n",
       "      <td>NaN</td>\n",
       "      <td>0</td>\n",
       "      <td>0</td>\n",
       "      <td>0</td>\n",
       "      <td>0</td>\n",
       "    </tr>\n",
       "  </tbody>\n",
       "</table>\n",
       "</div>"
      ],
      "text/plain": [
       "     company level                         title  totalyearlycompensation  \\\n",
       "0     Oracle    L3               Product Manager                   127000   \n",
       "1       eBay  SE 2             Software Engineer                   100000   \n",
       "2     Amazon    L7               Product Manager                   310000   \n",
       "3      Apple    M1  Software Engineering Manager                   372000   \n",
       "4  Microsoft    60             Software Engineer                   157000   \n",
       "\n",
       "            location  yearsofexperience  yearsatcompany  basesalary  \\\n",
       "0   Redwood City, CA                1.5             1.5    107000.0   \n",
       "1  San Francisco, CA                5.0             3.0         0.0   \n",
       "2        Seattle, WA                8.0             0.0    155000.0   \n",
       "3      Sunnyvale, CA                7.0             5.0    157000.0   \n",
       "4  Mountain View, CA                5.0             3.0         0.0   \n",
       "\n",
       "   stockgrantvalue    bonus gender  Masters_Degree  Bachelors_Degree  \\\n",
       "0          20000.0  10000.0    NaN               0                 0   \n",
       "1              0.0      0.0    NaN               0                 0   \n",
       "2              0.0      0.0    NaN               0                 0   \n",
       "3         180000.0  35000.0    NaN               0                 0   \n",
       "4              0.0      0.0    NaN               0                 0   \n",
       "\n",
       "   Doctorate_Degree  Highschool  \n",
       "0                 0           0  \n",
       "1                 0           0  \n",
       "2                 0           0  \n",
       "3                 0           0  \n",
       "4                 0           0  "
      ]
     },
     "execution_count": 9,
     "metadata": {},
     "output_type": "execute_result"
    }
   ],
   "source": [
    "new_df.head()"
   ]
  },
  {
   "cell_type": "code",
   "execution_count": 10,
   "id": "6c83548c",
   "metadata": {
    "execution": {
     "iopub.execute_input": "2021-11-10T09:41:59.813767Z",
     "iopub.status.busy": "2021-11-10T09:41:59.813069Z",
     "iopub.status.idle": "2021-11-10T09:41:59.817922Z",
     "shell.execute_reply": "2021-11-10T09:41:59.818441Z",
     "shell.execute_reply.started": "2021-11-10T09:40:24.480680Z"
    },
    "papermill": {
     "duration": 0.038736,
     "end_time": "2021-11-10T09:41:59.818653",
     "exception": false,
     "start_time": "2021-11-10T09:41:59.779917",
     "status": "completed"
    },
    "tags": []
   },
   "outputs": [
    {
     "data": {
      "text/plain": [
       "(62642, 15)"
      ]
     },
     "execution_count": 10,
     "metadata": {},
     "output_type": "execute_result"
    }
   ],
   "source": [
    "new_df.shape"
   ]
  },
  {
   "cell_type": "code",
   "execution_count": 11,
   "id": "2ae694ef",
   "metadata": {
    "execution": {
     "iopub.execute_input": "2021-11-10T09:41:59.883037Z",
     "iopub.status.busy": "2021-11-10T09:41:59.882374Z",
     "iopub.status.idle": "2021-11-10T09:41:59.909160Z",
     "shell.execute_reply": "2021-11-10T09:41:59.909682Z",
     "shell.execute_reply.started": "2021-11-10T09:40:24.491745Z"
    },
    "papermill": {
     "duration": 0.060715,
     "end_time": "2021-11-10T09:41:59.909883",
     "exception": false,
     "start_time": "2021-11-10T09:41:59.849168",
     "status": "completed"
    },
    "tags": []
   },
   "outputs": [
    {
     "data": {
      "text/html": [
       "<div>\n",
       "<style scoped>\n",
       "    .dataframe tbody tr th:only-of-type {\n",
       "        vertical-align: middle;\n",
       "    }\n",
       "\n",
       "    .dataframe tbody tr th {\n",
       "        vertical-align: top;\n",
       "    }\n",
       "\n",
       "    .dataframe thead th {\n",
       "        text-align: right;\n",
       "    }\n",
       "</style>\n",
       "<table border=\"1\" class=\"dataframe\">\n",
       "  <thead>\n",
       "    <tr style=\"text-align: right;\">\n",
       "      <th></th>\n",
       "      <th>company</th>\n",
       "      <th>level</th>\n",
       "      <th>title</th>\n",
       "      <th>totalyearlycompensation</th>\n",
       "      <th>location</th>\n",
       "      <th>yearsofexperience</th>\n",
       "      <th>yearsatcompany</th>\n",
       "      <th>basesalary</th>\n",
       "      <th>stockgrantvalue</th>\n",
       "      <th>bonus</th>\n",
       "      <th>gender</th>\n",
       "      <th>Masters_Degree</th>\n",
       "      <th>Bachelors_Degree</th>\n",
       "      <th>Doctorate_Degree</th>\n",
       "      <th>Highschool</th>\n",
       "    </tr>\n",
       "  </thead>\n",
       "  <tbody>\n",
       "    <tr>\n",
       "      <th>0</th>\n",
       "      <td>Oracle</td>\n",
       "      <td>L3</td>\n",
       "      <td>Product Manager</td>\n",
       "      <td>127000</td>\n",
       "      <td>Redwood City, CA</td>\n",
       "      <td>1.5</td>\n",
       "      <td>1.5</td>\n",
       "      <td>107000.0</td>\n",
       "      <td>20000.0</td>\n",
       "      <td>10000.0</td>\n",
       "      <td>NaN</td>\n",
       "      <td>0</td>\n",
       "      <td>0</td>\n",
       "      <td>0</td>\n",
       "      <td>0</td>\n",
       "    </tr>\n",
       "    <tr>\n",
       "      <th>1</th>\n",
       "      <td>eBay</td>\n",
       "      <td>SE 2</td>\n",
       "      <td>Software Engineer</td>\n",
       "      <td>100000</td>\n",
       "      <td>San Francisco, CA</td>\n",
       "      <td>5.0</td>\n",
       "      <td>3.0</td>\n",
       "      <td>0.0</td>\n",
       "      <td>0.0</td>\n",
       "      <td>0.0</td>\n",
       "      <td>NaN</td>\n",
       "      <td>0</td>\n",
       "      <td>0</td>\n",
       "      <td>0</td>\n",
       "      <td>0</td>\n",
       "    </tr>\n",
       "    <tr>\n",
       "      <th>2</th>\n",
       "      <td>Amazon</td>\n",
       "      <td>L7</td>\n",
       "      <td>Product Manager</td>\n",
       "      <td>310000</td>\n",
       "      <td>Seattle, WA</td>\n",
       "      <td>8.0</td>\n",
       "      <td>0.0</td>\n",
       "      <td>155000.0</td>\n",
       "      <td>0.0</td>\n",
       "      <td>0.0</td>\n",
       "      <td>NaN</td>\n",
       "      <td>0</td>\n",
       "      <td>0</td>\n",
       "      <td>0</td>\n",
       "      <td>0</td>\n",
       "    </tr>\n",
       "    <tr>\n",
       "      <th>3</th>\n",
       "      <td>Apple</td>\n",
       "      <td>M1</td>\n",
       "      <td>Software Engineering Manager</td>\n",
       "      <td>372000</td>\n",
       "      <td>Sunnyvale, CA</td>\n",
       "      <td>7.0</td>\n",
       "      <td>5.0</td>\n",
       "      <td>157000.0</td>\n",
       "      <td>180000.0</td>\n",
       "      <td>35000.0</td>\n",
       "      <td>NaN</td>\n",
       "      <td>0</td>\n",
       "      <td>0</td>\n",
       "      <td>0</td>\n",
       "      <td>0</td>\n",
       "    </tr>\n",
       "    <tr>\n",
       "      <th>4</th>\n",
       "      <td>Microsoft</td>\n",
       "      <td>60</td>\n",
       "      <td>Software Engineer</td>\n",
       "      <td>157000</td>\n",
       "      <td>Mountain View, CA</td>\n",
       "      <td>5.0</td>\n",
       "      <td>3.0</td>\n",
       "      <td>0.0</td>\n",
       "      <td>0.0</td>\n",
       "      <td>0.0</td>\n",
       "      <td>NaN</td>\n",
       "      <td>0</td>\n",
       "      <td>0</td>\n",
       "      <td>0</td>\n",
       "      <td>0</td>\n",
       "    </tr>\n",
       "    <tr>\n",
       "      <th>...</th>\n",
       "      <td>...</td>\n",
       "      <td>...</td>\n",
       "      <td>...</td>\n",
       "      <td>...</td>\n",
       "      <td>...</td>\n",
       "      <td>...</td>\n",
       "      <td>...</td>\n",
       "      <td>...</td>\n",
       "      <td>...</td>\n",
       "      <td>...</td>\n",
       "      <td>...</td>\n",
       "      <td>...</td>\n",
       "      <td>...</td>\n",
       "      <td>...</td>\n",
       "      <td>...</td>\n",
       "    </tr>\n",
       "    <tr>\n",
       "      <th>62637</th>\n",
       "      <td>Google</td>\n",
       "      <td>T4</td>\n",
       "      <td>Software Engineer</td>\n",
       "      <td>327000</td>\n",
       "      <td>Seattle, WA</td>\n",
       "      <td>10.0</td>\n",
       "      <td>1.0</td>\n",
       "      <td>155000.0</td>\n",
       "      <td>150000.0</td>\n",
       "      <td>22000.0</td>\n",
       "      <td>NaN</td>\n",
       "      <td>0</td>\n",
       "      <td>0</td>\n",
       "      <td>0</td>\n",
       "      <td>0</td>\n",
       "    </tr>\n",
       "    <tr>\n",
       "      <th>62638</th>\n",
       "      <td>Microsoft</td>\n",
       "      <td>62</td>\n",
       "      <td>Software Engineer</td>\n",
       "      <td>237000</td>\n",
       "      <td>Redmond, WA</td>\n",
       "      <td>2.0</td>\n",
       "      <td>2.0</td>\n",
       "      <td>146900.0</td>\n",
       "      <td>73200.0</td>\n",
       "      <td>16000.0</td>\n",
       "      <td>NaN</td>\n",
       "      <td>0</td>\n",
       "      <td>0</td>\n",
       "      <td>0</td>\n",
       "      <td>0</td>\n",
       "    </tr>\n",
       "    <tr>\n",
       "      <th>62639</th>\n",
       "      <td>MSFT</td>\n",
       "      <td>63</td>\n",
       "      <td>Software Engineer</td>\n",
       "      <td>220000</td>\n",
       "      <td>Seattle, WA</td>\n",
       "      <td>14.0</td>\n",
       "      <td>12.0</td>\n",
       "      <td>157000.0</td>\n",
       "      <td>25000.0</td>\n",
       "      <td>20000.0</td>\n",
       "      <td>NaN</td>\n",
       "      <td>0</td>\n",
       "      <td>0</td>\n",
       "      <td>0</td>\n",
       "      <td>0</td>\n",
       "    </tr>\n",
       "    <tr>\n",
       "      <th>62640</th>\n",
       "      <td>Salesforce</td>\n",
       "      <td>Lead MTS</td>\n",
       "      <td>Software Engineer</td>\n",
       "      <td>280000</td>\n",
       "      <td>San Francisco, CA</td>\n",
       "      <td>8.0</td>\n",
       "      <td>4.0</td>\n",
       "      <td>194688.0</td>\n",
       "      <td>57000.0</td>\n",
       "      <td>29000.0</td>\n",
       "      <td>NaN</td>\n",
       "      <td>0</td>\n",
       "      <td>0</td>\n",
       "      <td>0</td>\n",
       "      <td>0</td>\n",
       "    </tr>\n",
       "    <tr>\n",
       "      <th>62641</th>\n",
       "      <td>apple</td>\n",
       "      <td>ict3</td>\n",
       "      <td>Software Engineer</td>\n",
       "      <td>200000</td>\n",
       "      <td>Sunnyvale, CA</td>\n",
       "      <td>0.0</td>\n",
       "      <td>0.0</td>\n",
       "      <td>155000.0</td>\n",
       "      <td>27000.0</td>\n",
       "      <td>19000.0</td>\n",
       "      <td>Male</td>\n",
       "      <td>0</td>\n",
       "      <td>0</td>\n",
       "      <td>0</td>\n",
       "      <td>0</td>\n",
       "    </tr>\n",
       "  </tbody>\n",
       "</table>\n",
       "<p>62642 rows × 15 columns</p>\n",
       "</div>"
      ],
      "text/plain": [
       "          company     level                         title  \\\n",
       "0          Oracle        L3               Product Manager   \n",
       "1            eBay      SE 2             Software Engineer   \n",
       "2          Amazon        L7               Product Manager   \n",
       "3           Apple        M1  Software Engineering Manager   \n",
       "4       Microsoft        60             Software Engineer   \n",
       "...           ...       ...                           ...   \n",
       "62637      Google        T4             Software Engineer   \n",
       "62638   Microsoft        62             Software Engineer   \n",
       "62639        MSFT        63             Software Engineer   \n",
       "62640  Salesforce  Lead MTS             Software Engineer   \n",
       "62641       apple      ict3             Software Engineer   \n",
       "\n",
       "       totalyearlycompensation           location  yearsofexperience  \\\n",
       "0                       127000   Redwood City, CA                1.5   \n",
       "1                       100000  San Francisco, CA                5.0   \n",
       "2                       310000        Seattle, WA                8.0   \n",
       "3                       372000      Sunnyvale, CA                7.0   \n",
       "4                       157000  Mountain View, CA                5.0   \n",
       "...                        ...                ...                ...   \n",
       "62637                   327000        Seattle, WA               10.0   \n",
       "62638                   237000        Redmond, WA                2.0   \n",
       "62639                   220000        Seattle, WA               14.0   \n",
       "62640                   280000  San Francisco, CA                8.0   \n",
       "62641                   200000      Sunnyvale, CA                0.0   \n",
       "\n",
       "       yearsatcompany  basesalary  stockgrantvalue    bonus gender  \\\n",
       "0                 1.5    107000.0          20000.0  10000.0    NaN   \n",
       "1                 3.0         0.0              0.0      0.0    NaN   \n",
       "2                 0.0    155000.0              0.0      0.0    NaN   \n",
       "3                 5.0    157000.0         180000.0  35000.0    NaN   \n",
       "4                 3.0         0.0              0.0      0.0    NaN   \n",
       "...               ...         ...              ...      ...    ...   \n",
       "62637             1.0    155000.0         150000.0  22000.0    NaN   \n",
       "62638             2.0    146900.0          73200.0  16000.0    NaN   \n",
       "62639            12.0    157000.0          25000.0  20000.0    NaN   \n",
       "62640             4.0    194688.0          57000.0  29000.0    NaN   \n",
       "62641             0.0    155000.0          27000.0  19000.0   Male   \n",
       "\n",
       "       Masters_Degree  Bachelors_Degree  Doctorate_Degree  Highschool  \n",
       "0                   0                 0                 0           0  \n",
       "1                   0                 0                 0           0  \n",
       "2                   0                 0                 0           0  \n",
       "3                   0                 0                 0           0  \n",
       "4                   0                 0                 0           0  \n",
       "...               ...               ...               ...         ...  \n",
       "62637               0                 0                 0           0  \n",
       "62638               0                 0                 0           0  \n",
       "62639               0                 0                 0           0  \n",
       "62640               0                 0                 0           0  \n",
       "62641               0                 0                 0           0  \n",
       "\n",
       "[62642 rows x 15 columns]"
      ]
     },
     "execution_count": 11,
     "metadata": {},
     "output_type": "execute_result"
    }
   ],
   "source": [
    "new_df"
   ]
  },
  {
   "cell_type": "markdown",
   "id": "d5d2a22b",
   "metadata": {
    "papermill": {
     "duration": 0.032451,
     "end_time": "2021-11-10T09:41:59.976072",
     "exception": false,
     "start_time": "2021-11-10T09:41:59.943621",
     "status": "completed"
    },
    "tags": []
   },
   "source": [
    "# Top 10 Jobs"
   ]
  },
  {
   "cell_type": "code",
   "execution_count": 12,
   "id": "b9bf8e80",
   "metadata": {
    "execution": {
     "iopub.execute_input": "2021-11-10T09:42:00.047034Z",
     "iopub.status.busy": "2021-11-10T09:42:00.045462Z",
     "iopub.status.idle": "2021-11-10T09:42:00.066173Z",
     "shell.execute_reply": "2021-11-10T09:42:00.066712Z",
     "shell.execute_reply.started": "2021-11-10T09:40:24.529568Z"
    },
    "papermill": {
     "duration": 0.057727,
     "end_time": "2021-11-10T09:42:00.066900",
     "exception": false,
     "start_time": "2021-11-10T09:42:00.009173",
     "status": "completed"
    },
    "tags": []
   },
   "outputs": [
    {
     "data": {
      "text/html": [
       "<div>\n",
       "<style scoped>\n",
       "    .dataframe tbody tr th:only-of-type {\n",
       "        vertical-align: middle;\n",
       "    }\n",
       "\n",
       "    .dataframe tbody tr th {\n",
       "        vertical-align: top;\n",
       "    }\n",
       "\n",
       "    .dataframe thead th {\n",
       "        text-align: right;\n",
       "    }\n",
       "</style>\n",
       "<table border=\"1\" class=\"dataframe\">\n",
       "  <thead>\n",
       "    <tr style=\"text-align: right;\">\n",
       "      <th></th>\n",
       "      <th>Job</th>\n",
       "      <th>Count</th>\n",
       "    </tr>\n",
       "  </thead>\n",
       "  <tbody>\n",
       "    <tr>\n",
       "      <th>0</th>\n",
       "      <td>Software Engineer</td>\n",
       "      <td>41231</td>\n",
       "    </tr>\n",
       "    <tr>\n",
       "      <th>1</th>\n",
       "      <td>Product Manager</td>\n",
       "      <td>4673</td>\n",
       "    </tr>\n",
       "    <tr>\n",
       "      <th>2</th>\n",
       "      <td>Software Engineering Manager</td>\n",
       "      <td>3569</td>\n",
       "    </tr>\n",
       "    <tr>\n",
       "      <th>3</th>\n",
       "      <td>Data Scientist</td>\n",
       "      <td>2578</td>\n",
       "    </tr>\n",
       "    <tr>\n",
       "      <th>4</th>\n",
       "      <td>Hardware Engineer</td>\n",
       "      <td>2200</td>\n",
       "    </tr>\n",
       "    <tr>\n",
       "      <th>5</th>\n",
       "      <td>Product Designer</td>\n",
       "      <td>1516</td>\n",
       "    </tr>\n",
       "    <tr>\n",
       "      <th>6</th>\n",
       "      <td>Technical Program Manager</td>\n",
       "      <td>1381</td>\n",
       "    </tr>\n",
       "    <tr>\n",
       "      <th>7</th>\n",
       "      <td>Solution Architect</td>\n",
       "      <td>1157</td>\n",
       "    </tr>\n",
       "    <tr>\n",
       "      <th>8</th>\n",
       "      <td>Management Consultant</td>\n",
       "      <td>976</td>\n",
       "    </tr>\n",
       "    <tr>\n",
       "      <th>9</th>\n",
       "      <td>Business Analyst</td>\n",
       "      <td>885</td>\n",
       "    </tr>\n",
       "  </tbody>\n",
       "</table>\n",
       "</div>"
      ],
      "text/plain": [
       "                            Job  Count\n",
       "0             Software Engineer  41231\n",
       "1               Product Manager   4673\n",
       "2  Software Engineering Manager   3569\n",
       "3                Data Scientist   2578\n",
       "4             Hardware Engineer   2200\n",
       "5              Product Designer   1516\n",
       "6     Technical Program Manager   1381\n",
       "7            Solution Architect   1157\n",
       "8         Management Consultant    976\n",
       "9              Business Analyst    885"
      ]
     },
     "execution_count": 12,
     "metadata": {},
     "output_type": "execute_result"
    }
   ],
   "source": [
    "job_title = new_df[\"title\"].value_counts()[0:10].reset_index()\n",
    "job_title.columns = [\"Job\", \"Count\"]\n",
    "job_title"
   ]
  },
  {
   "cell_type": "code",
   "execution_count": 13,
   "id": "210fdfea",
   "metadata": {
    "execution": {
     "iopub.execute_input": "2021-11-10T09:42:00.134606Z",
     "iopub.status.busy": "2021-11-10T09:42:00.133572Z",
     "iopub.status.idle": "2021-11-10T09:42:00.739271Z",
     "shell.execute_reply": "2021-11-10T09:42:00.738398Z",
     "shell.execute_reply.started": "2021-11-10T09:40:24.553424Z"
    },
    "papermill": {
     "duration": 0.640829,
     "end_time": "2021-11-10T09:42:00.739490",
     "exception": false,
     "start_time": "2021-11-10T09:42:00.098661",
     "status": "completed"
    },
    "tags": []
   },
   "outputs": [
    {
     "data": {
      "image/png": "[encoded data removed]",
      "text/plain": [
       "<Figure size 1296x432 with 1 Axes>"
      ]
     },
     "metadata": {
      "needs_background": "light"
     },
     "output_type": "display_data"
    }
   ],
   "source": [
    "sns.catplot(x=\"Count\", y=\"Job\", kind=\"bar\", data=job_title, height=6, aspect=3)\n",
    "plt.grid(True)"
   ]
  },
  {
   "cell_type": "code",
   "execution_count": 14,
   "id": "22f5291a",
   "metadata": {
    "execution": {
     "iopub.execute_input": "2021-11-10T09:42:00.842532Z",
     "iopub.status.busy": "2021-11-10T09:42:00.841554Z",
     "iopub.status.idle": "2021-11-10T09:42:00.858213Z",
     "shell.execute_reply": "2021-11-10T09:42:00.859024Z",
     "shell.execute_reply.started": "2021-11-10T09:40:25.204336Z"
    },
    "papermill": {
     "duration": 0.0681,
     "end_time": "2021-11-10T09:42:00.859289",
     "exception": false,
     "start_time": "2021-11-10T09:42:00.791189",
     "status": "completed"
    },
    "tags": []
   },
   "outputs": [
    {
     "data": {
      "text/plain": [
       "Amazon                      8126\n",
       "Microsoft                   5216\n",
       "Google                      4330\n",
       "Facebook                    2990\n",
       "Apple                       2028\n",
       "                            ... \n",
       "Samsung research America       1\n",
       "Bny Mellon                     1\n",
       "yelp                           1\n",
       "Bloomberg lp                   1\n",
       "tableau software               1\n",
       "Name: company, Length: 1631, dtype: int64"
      ]
     },
     "execution_count": 14,
     "metadata": {},
     "output_type": "execute_result"
    }
   ],
   "source": [
    "new_df['company'].value_counts()"
   ]
  },
  {
   "cell_type": "markdown",
   "id": "a21eeb76",
   "metadata": {
    "papermill": {
     "duration": 0.033484,
     "end_time": "2021-11-10T09:42:00.929958",
     "exception": false,
     "start_time": "2021-11-10T09:42:00.896474",
     "status": "completed"
    },
    "tags": []
   },
   "source": [
    "# Top 8 Company Hiring"
   ]
  },
  {
   "cell_type": "code",
   "execution_count": 15,
   "id": "29ba1f4f",
   "metadata": {
    "execution": {
     "iopub.execute_input": "2021-11-10T09:42:01.008922Z",
     "iopub.status.busy": "2021-11-10T09:42:01.008014Z",
     "iopub.status.idle": "2021-11-10T09:42:01.030832Z",
     "shell.execute_reply": "2021-11-10T09:42:01.031676Z",
     "shell.execute_reply.started": "2021-11-10T09:40:25.225528Z"
    },
    "papermill": {
     "duration": 0.063448,
     "end_time": "2021-11-10T09:42:01.031975",
     "exception": false,
     "start_time": "2021-11-10T09:42:00.968527",
     "status": "completed"
    },
    "tags": []
   },
   "outputs": [
    {
     "data": {
      "text/html": [
       "<div>\n",
       "<style scoped>\n",
       "    .dataframe tbody tr th:only-of-type {\n",
       "        vertical-align: middle;\n",
       "    }\n",
       "\n",
       "    .dataframe tbody tr th {\n",
       "        vertical-align: top;\n",
       "    }\n",
       "\n",
       "    .dataframe thead th {\n",
       "        text-align: right;\n",
       "    }\n",
       "</style>\n",
       "<table border=\"1\" class=\"dataframe\">\n",
       "  <thead>\n",
       "    <tr style=\"text-align: right;\">\n",
       "      <th></th>\n",
       "      <th>company</th>\n",
       "      <th>Count</th>\n",
       "    </tr>\n",
       "  </thead>\n",
       "  <tbody>\n",
       "    <tr>\n",
       "      <th>0</th>\n",
       "      <td>Amazon</td>\n",
       "      <td>8126</td>\n",
       "    </tr>\n",
       "    <tr>\n",
       "      <th>1</th>\n",
       "      <td>Microsoft</td>\n",
       "      <td>5216</td>\n",
       "    </tr>\n",
       "    <tr>\n",
       "      <th>2</th>\n",
       "      <td>Google</td>\n",
       "      <td>4330</td>\n",
       "    </tr>\n",
       "    <tr>\n",
       "      <th>3</th>\n",
       "      <td>Facebook</td>\n",
       "      <td>2990</td>\n",
       "    </tr>\n",
       "    <tr>\n",
       "      <th>4</th>\n",
       "      <td>Apple</td>\n",
       "      <td>2028</td>\n",
       "    </tr>\n",
       "    <tr>\n",
       "      <th>5</th>\n",
       "      <td>Oracle</td>\n",
       "      <td>1128</td>\n",
       "    </tr>\n",
       "    <tr>\n",
       "      <th>6</th>\n",
       "      <td>Salesforce</td>\n",
       "      <td>1056</td>\n",
       "    </tr>\n",
       "    <tr>\n",
       "      <th>7</th>\n",
       "      <td>Intel</td>\n",
       "      <td>949</td>\n",
       "    </tr>\n",
       "  </tbody>\n",
       "</table>\n",
       "</div>"
      ],
      "text/plain": [
       "      company  Count\n",
       "0      Amazon   8126\n",
       "1   Microsoft   5216\n",
       "2      Google   4330\n",
       "3    Facebook   2990\n",
       "4       Apple   2028\n",
       "5      Oracle   1128\n",
       "6  Salesforce   1056\n",
       "7       Intel    949"
      ]
     },
     "execution_count": 15,
     "metadata": {},
     "output_type": "execute_result"
    }
   ],
   "source": [
    "company_title = new_df[\"company\"].value_counts()[0:8].reset_index()\n",
    "company_title.columns = [\"company\", \"Count\"]\n",
    "company_title"
   ]
  },
  {
   "cell_type": "code",
   "execution_count": 16,
   "id": "1b19db94",
   "metadata": {
    "execution": {
     "iopub.execute_input": "2021-11-10T09:42:01.118846Z",
     "iopub.status.busy": "2021-11-10T09:42:01.118191Z",
     "iopub.status.idle": "2021-11-10T09:42:01.337676Z",
     "shell.execute_reply": "2021-11-10T09:42:01.337082Z",
     "shell.execute_reply.started": "2021-11-10T09:40:25.253998Z"
    },
    "papermill": {
     "duration": 0.257648,
     "end_time": "2021-11-10T09:42:01.337848",
     "exception": false,
     "start_time": "2021-11-10T09:42:01.080200",
     "status": "completed"
    },
    "tags": []
   },
   "outputs": [
    {
     "data": {
      "image/png": "[encoded data removed]",
      "text/plain": [
       "<Figure size 432x288 with 1 Axes>"
      ]
     },
     "metadata": {},
     "output_type": "display_data"
    }
   ],
   "source": [
    "plt.pie(company_title['Count'],labels=company_title['company'], autopct='%.0f%%',radius=3,shadow=True)\n",
    "plt.show()"
   ]
  },
  {
   "cell_type": "code",
   "execution_count": 17,
   "id": "b7926d25",
   "metadata": {
    "execution": {
     "iopub.execute_input": "2021-11-10T09:42:01.421243Z",
     "iopub.status.busy": "2021-11-10T09:42:01.420028Z",
     "iopub.status.idle": "2021-11-10T09:42:01.478370Z",
     "shell.execute_reply": "2021-11-10T09:42:01.478945Z",
     "shell.execute_reply.started": "2021-11-10T09:40:25.478387Z"
    },
    "papermill": {
     "duration": 0.105761,
     "end_time": "2021-11-10T09:42:01.479190",
     "exception": false,
     "start_time": "2021-11-10T09:42:01.373429",
     "status": "completed"
    },
    "tags": []
   },
   "outputs": [
    {
     "data": {
      "text/html": [
       "<div>\n",
       "<style scoped>\n",
       "    .dataframe tbody tr th:only-of-type {\n",
       "        vertical-align: middle;\n",
       "    }\n",
       "\n",
       "    .dataframe tbody tr th {\n",
       "        vertical-align: top;\n",
       "    }\n",
       "\n",
       "    .dataframe thead th {\n",
       "        text-align: right;\n",
       "    }\n",
       "</style>\n",
       "<table border=\"1\" class=\"dataframe\">\n",
       "  <thead>\n",
       "    <tr style=\"text-align: right;\">\n",
       "      <th></th>\n",
       "      <th>totalyearlycompensation</th>\n",
       "      <th>yearsofexperience</th>\n",
       "      <th>yearsatcompany</th>\n",
       "      <th>basesalary</th>\n",
       "      <th>stockgrantvalue</th>\n",
       "      <th>bonus</th>\n",
       "      <th>Masters_Degree</th>\n",
       "      <th>Bachelors_Degree</th>\n",
       "      <th>Doctorate_Degree</th>\n",
       "      <th>Highschool</th>\n",
       "    </tr>\n",
       "  </thead>\n",
       "  <tbody>\n",
       "    <tr>\n",
       "      <th>count</th>\n",
       "      <td>6.264200e+04</td>\n",
       "      <td>62642.000000</td>\n",
       "      <td>62642.000000</td>\n",
       "      <td>6.264200e+04</td>\n",
       "      <td>6.264200e+04</td>\n",
       "      <td>62642.000000</td>\n",
       "      <td>62642.000000</td>\n",
       "      <td>62642.000000</td>\n",
       "      <td>62642.000000</td>\n",
       "      <td>62642.000000</td>\n",
       "    </tr>\n",
       "    <tr>\n",
       "      <th>mean</th>\n",
       "      <td>2.163004e+05</td>\n",
       "      <td>7.204135</td>\n",
       "      <td>2.702093</td>\n",
       "      <td>1.366873e+05</td>\n",
       "      <td>5.148608e+04</td>\n",
       "      <td>19334.746588</td>\n",
       "      <td>0.245698</td>\n",
       "      <td>0.201223</td>\n",
       "      <td>0.028783</td>\n",
       "      <td>0.005108</td>\n",
       "    </tr>\n",
       "    <tr>\n",
       "      <th>std</th>\n",
       "      <td>1.380337e+05</td>\n",
       "      <td>5.840375</td>\n",
       "      <td>3.263656</td>\n",
       "      <td>6.136928e+04</td>\n",
       "      <td>8.187457e+04</td>\n",
       "      <td>26781.292040</td>\n",
       "      <td>0.430504</td>\n",
       "      <td>0.400917</td>\n",
       "      <td>0.167196</td>\n",
       "      <td>0.071291</td>\n",
       "    </tr>\n",
       "    <tr>\n",
       "      <th>min</th>\n",
       "      <td>1.000000e+04</td>\n",
       "      <td>0.000000</td>\n",
       "      <td>0.000000</td>\n",
       "      <td>0.000000e+00</td>\n",
       "      <td>0.000000e+00</td>\n",
       "      <td>0.000000</td>\n",
       "      <td>0.000000</td>\n",
       "      <td>0.000000</td>\n",
       "      <td>0.000000</td>\n",
       "      <td>0.000000</td>\n",
       "    </tr>\n",
       "    <tr>\n",
       "      <th>25%</th>\n",
       "      <td>1.350000e+05</td>\n",
       "      <td>3.000000</td>\n",
       "      <td>0.000000</td>\n",
       "      <td>1.080000e+05</td>\n",
       "      <td>0.000000e+00</td>\n",
       "      <td>1000.000000</td>\n",
       "      <td>0.000000</td>\n",
       "      <td>0.000000</td>\n",
       "      <td>0.000000</td>\n",
       "      <td>0.000000</td>\n",
       "    </tr>\n",
       "    <tr>\n",
       "      <th>50%</th>\n",
       "      <td>1.880000e+05</td>\n",
       "      <td>6.000000</td>\n",
       "      <td>2.000000</td>\n",
       "      <td>1.400000e+05</td>\n",
       "      <td>2.500000e+04</td>\n",
       "      <td>14000.000000</td>\n",
       "      <td>0.000000</td>\n",
       "      <td>0.000000</td>\n",
       "      <td>0.000000</td>\n",
       "      <td>0.000000</td>\n",
       "    </tr>\n",
       "    <tr>\n",
       "      <th>75%</th>\n",
       "      <td>2.640000e+05</td>\n",
       "      <td>10.000000</td>\n",
       "      <td>4.000000</td>\n",
       "      <td>1.700000e+05</td>\n",
       "      <td>6.500000e+04</td>\n",
       "      <td>26000.000000</td>\n",
       "      <td>0.000000</td>\n",
       "      <td>0.000000</td>\n",
       "      <td>0.000000</td>\n",
       "      <td>0.000000</td>\n",
       "    </tr>\n",
       "    <tr>\n",
       "      <th>max</th>\n",
       "      <td>4.980000e+06</td>\n",
       "      <td>69.000000</td>\n",
       "      <td>69.000000</td>\n",
       "      <td>1.659870e+06</td>\n",
       "      <td>2.800000e+06</td>\n",
       "      <td>1000000.000000</td>\n",
       "      <td>1.000000</td>\n",
       "      <td>1.000000</td>\n",
       "      <td>1.000000</td>\n",
       "      <td>1.000000</td>\n",
       "    </tr>\n",
       "  </tbody>\n",
       "</table>\n",
       "</div>"
      ],
      "text/plain": [
       "       totalyearlycompensation  yearsofexperience  yearsatcompany  \\\n",
       "count             6.264200e+04       62642.000000    62642.000000   \n",
       "mean              2.163004e+05           7.204135        2.702093   \n",
       "std               1.380337e+05           5.840375        3.263656   \n",
       "min               1.000000e+04           0.000000        0.000000   \n",
       "25%               1.350000e+05           3.000000        0.000000   \n",
       "50%               1.880000e+05           6.000000        2.000000   \n",
       "75%               2.640000e+05          10.000000        4.000000   \n",
       "max               4.980000e+06          69.000000       69.000000   \n",
       "\n",
       "         basesalary  stockgrantvalue           bonus  Masters_Degree  \\\n",
       "count  6.264200e+04     6.264200e+04    62642.000000    62642.000000   \n",
       "mean   1.366873e+05     5.148608e+04    19334.746588        0.245698   \n",
       "std    6.136928e+04     8.187457e+04    26781.292040        0.430504   \n",
       "min    0.000000e+00     0.000000e+00        0.000000        0.000000   \n",
       "25%    1.080000e+05     0.000000e+00     1000.000000        0.000000   \n",
       "50%    1.400000e+05     2.500000e+04    14000.000000        0.000000   \n",
       "75%    1.700000e+05     6.500000e+04    26000.000000        0.000000   \n",
       "max    1.659870e+06     2.800000e+06  1000000.000000        1.000000   \n",
       "\n",
       "       Bachelors_Degree  Doctorate_Degree    Highschool  \n",
       "count      62642.000000      62642.000000  62642.000000  \n",
       "mean           0.201223          0.028783      0.005108  \n",
       "std            0.400917          0.167196      0.071291  \n",
       "min            0.000000          0.000000      0.000000  \n",
       "25%            0.000000          0.000000      0.000000  \n",
       "50%            0.000000          0.000000      0.000000  \n",
       "75%            0.000000          0.000000      0.000000  \n",
       "max            1.000000          1.000000      1.000000  "
      ]
     },
     "execution_count": 17,
     "metadata": {},
     "output_type": "execute_result"
    }
   ],
   "source": [
    "new_df.describe()"
   ]
  },
  {
   "cell_type": "markdown",
   "id": "2c957b0a",
   "metadata": {
    "papermill": {
     "duration": 0.035799,
     "end_time": "2021-11-10T09:42:01.553518",
     "exception": false,
     "start_time": "2021-11-10T09:42:01.517719",
     "status": "completed"
    },
    "tags": []
   },
   "source": [
    "# Salary Payslip Distribution"
   ]
  },
  {
   "cell_type": "code",
   "execution_count": 18,
   "id": "7f4e27d2",
   "metadata": {
    "execution": {
     "iopub.execute_input": "2021-11-10T09:42:01.634569Z",
     "iopub.status.busy": "2021-11-10T09:42:01.633839Z",
     "iopub.status.idle": "2021-11-10T09:42:01.641159Z",
     "shell.execute_reply": "2021-11-10T09:42:01.640556Z",
     "shell.execute_reply.started": "2021-11-10T09:40:25.560986Z"
    },
    "papermill": {
     "duration": 0.050868,
     "end_time": "2021-11-10T09:42:01.641332",
     "exception": false,
     "start_time": "2021-11-10T09:42:01.590464",
     "status": "completed"
    },
    "tags": []
   },
   "outputs": [
    {
     "data": {
      "text/plain": [
       "[{'type': 'Base salary', 'mean': 136687.28129689346},\n",
       " {'type': 'Stock Value', 'mean': 51486.08073259315},\n",
       " {'type': 'Bonus', 'mean': 19334.746587752627}]"
      ]
     },
     "execution_count": 18,
     "metadata": {},
     "output_type": "execute_result"
    }
   ],
   "source": [
    "salary = []\n",
    "salary.append({\n",
    "    'type' : 'Base salary',\n",
    "    'mean' : new_df['basesalary'].mean()\n",
    "})\n",
    "salary.append({\n",
    "    'type' : 'Stock Value',\n",
    "    'mean' : new_df['stockgrantvalue'].mean()\n",
    "})\n",
    "salary.append({\n",
    "    'type' : 'Bonus',\n",
    "    'mean' : new_df['bonus'].mean()\n",
    "})\n",
    "salary"
   ]
  },
  {
   "cell_type": "code",
   "execution_count": 19,
   "id": "c3523612",
   "metadata": {
    "execution": {
     "iopub.execute_input": "2021-11-10T09:42:01.719643Z",
     "iopub.status.busy": "2021-11-10T09:42:01.718556Z",
     "iopub.status.idle": "2021-11-10T09:42:01.729593Z",
     "shell.execute_reply": "2021-11-10T09:42:01.730136Z",
     "shell.execute_reply.started": "2021-11-10T09:40:25.578138Z"
    },
    "papermill": {
     "duration": 0.05252,
     "end_time": "2021-11-10T09:42:01.730354",
     "exception": false,
     "start_time": "2021-11-10T09:42:01.677834",
     "status": "completed"
    },
    "tags": []
   },
   "outputs": [
    {
     "data": {
      "text/html": [
       "<div>\n",
       "<style scoped>\n",
       "    .dataframe tbody tr th:only-of-type {\n",
       "        vertical-align: middle;\n",
       "    }\n",
       "\n",
       "    .dataframe tbody tr th {\n",
       "        vertical-align: top;\n",
       "    }\n",
       "\n",
       "    .dataframe thead th {\n",
       "        text-align: right;\n",
       "    }\n",
       "</style>\n",
       "<table border=\"1\" class=\"dataframe\">\n",
       "  <thead>\n",
       "    <tr style=\"text-align: right;\">\n",
       "      <th></th>\n",
       "      <th>type</th>\n",
       "      <th>mean</th>\n",
       "    </tr>\n",
       "  </thead>\n",
       "  <tbody>\n",
       "    <tr>\n",
       "      <th>0</th>\n",
       "      <td>Base salary</td>\n",
       "      <td>136687.281297</td>\n",
       "    </tr>\n",
       "    <tr>\n",
       "      <th>1</th>\n",
       "      <td>Stock Value</td>\n",
       "      <td>51486.080733</td>\n",
       "    </tr>\n",
       "    <tr>\n",
       "      <th>2</th>\n",
       "      <td>Bonus</td>\n",
       "      <td>19334.746588</td>\n",
       "    </tr>\n",
       "  </tbody>\n",
       "</table>\n",
       "</div>"
      ],
      "text/plain": [
       "          type           mean\n",
       "0  Base salary  136687.281297\n",
       "1  Stock Value   51486.080733\n",
       "2        Bonus   19334.746588"
      ]
     },
     "execution_count": 19,
     "metadata": {},
     "output_type": "execute_result"
    }
   ],
   "source": [
    "salary = pd.DataFrame(salary, columns = ['type','mean'])\n",
    "salary"
   ]
  },
  {
   "cell_type": "code",
   "execution_count": 20,
   "id": "8eaec248",
   "metadata": {
    "execution": {
     "iopub.execute_input": "2021-11-10T09:42:01.823768Z",
     "iopub.status.busy": "2021-11-10T09:42:01.810378Z",
     "iopub.status.idle": "2021-11-10T09:42:01.933521Z",
     "shell.execute_reply": "2021-11-10T09:42:01.934074Z",
     "shell.execute_reply.started": "2021-11-10T09:40:25.594644Z"
    },
    "papermill": {
     "duration": 0.166023,
     "end_time": "2021-11-10T09:42:01.934278",
     "exception": false,
     "start_time": "2021-11-10T09:42:01.768255",
     "status": "completed"
    },
    "tags": []
   },
   "outputs": [
    {
     "data": {
      "image/png": "[encoded data removed]",
      "text/plain": [
       "<Figure size 432x288 with 1 Axes>"
      ]
     },
     "metadata": {},
     "output_type": "display_data"
    }
   ],
   "source": [
    "colors = ['#3b528b','#d2e038','#61ad66']\n",
    "plt.pie(salary['mean'] , labels = salary['type'],autopct='%.0f%%' ,colors=colors, radius = 2 ,explode = (0.05,0.05, 0.1), shadow = True)\n",
    "plt.show()"
   ]
  },
  {
   "cell_type": "code",
   "execution_count": 21,
   "id": "11cef804",
   "metadata": {
    "execution": {
     "iopub.execute_input": "2021-11-10T09:42:02.019800Z",
     "iopub.status.busy": "2021-11-10T09:42:02.019090Z",
     "iopub.status.idle": "2021-11-10T09:42:02.027482Z",
     "shell.execute_reply": "2021-11-10T09:42:02.026921Z",
     "shell.execute_reply.started": "2021-11-10T09:40:25.727419Z"
    },
    "papermill": {
     "duration": 0.055673,
     "end_time": "2021-11-10T09:42:02.027635",
     "exception": false,
     "start_time": "2021-11-10T09:42:01.971962",
     "status": "completed"
    },
    "tags": []
   },
   "outputs": [
    {
     "data": {
      "text/plain": [
       "5.0     5886\n",
       "2.0     5530\n",
       "3.0     5530\n",
       "4.0     4896\n",
       "10.0    4760\n",
       "0.0     4603\n",
       "1.0     4070\n",
       "6.0     3990\n",
       "8.0     3622\n",
       "7.0     3451\n",
       "Name: yearsofexperience, dtype: int64"
      ]
     },
     "execution_count": 21,
     "metadata": {},
     "output_type": "execute_result"
    }
   ],
   "source": [
    "new_df['yearsofexperience'].value_counts().head(10)"
   ]
  },
  {
   "cell_type": "code",
   "execution_count": 22,
   "id": "432b1f06",
   "metadata": {
    "execution": {
     "iopub.execute_input": "2021-11-10T09:42:02.111682Z",
     "iopub.status.busy": "2021-11-10T09:42:02.111024Z",
     "iopub.status.idle": "2021-11-10T09:42:02.115790Z",
     "shell.execute_reply": "2021-11-10T09:42:02.116811Z",
     "shell.execute_reply.started": "2021-11-10T09:40:25.743487Z"
    },
    "papermill": {
     "duration": 0.049319,
     "end_time": "2021-11-10T09:42:02.117108",
     "exception": false,
     "start_time": "2021-11-10T09:42:02.067789",
     "status": "completed"
    },
    "tags": []
   },
   "outputs": [
    {
     "name": "stderr",
     "output_type": "stream",
     "text": [
      "/opt/conda/lib/python3.7/site-packages/ipykernel_launcher.py:1: SettingWithCopyWarning: \n",
      "A value is trying to be set on a copy of a slice from a DataFrame.\n",
      "Try using .loc[row_indexer,col_indexer] = value instead\n",
      "\n",
      "See the caveats in the documentation: https://pandas.pydata.org/pandas-docs/stable/user_guide/indexing.html#returning-a-view-versus-a-copy\n",
      "  \"\"\"Entry point for launching an IPython kernel.\n"
     ]
    }
   ],
   "source": [
    "new_df['old_company_yrs'] = new_df['yearsofexperience'] - new_df['yearsatcompany']"
   ]
  },
  {
   "cell_type": "code",
   "execution_count": 23,
   "id": "38a082b6",
   "metadata": {
    "execution": {
     "iopub.execute_input": "2021-11-10T09:42:02.201090Z",
     "iopub.status.busy": "2021-11-10T09:42:02.200098Z",
     "iopub.status.idle": "2021-11-10T09:42:02.226473Z",
     "shell.execute_reply": "2021-11-10T09:42:02.227041Z",
     "shell.execute_reply.started": "2021-11-10T09:40:25.759908Z"
    },
    "papermill": {
     "duration": 0.070065,
     "end_time": "2021-11-10T09:42:02.227279",
     "exception": false,
     "start_time": "2021-11-10T09:42:02.157214",
     "status": "completed"
    },
    "tags": []
   },
   "outputs": [
    {
     "data": {
      "text/html": [
       "<div>\n",
       "<style scoped>\n",
       "    .dataframe tbody tr th:only-of-type {\n",
       "        vertical-align: middle;\n",
       "    }\n",
       "\n",
       "    .dataframe tbody tr th {\n",
       "        vertical-align: top;\n",
       "    }\n",
       "\n",
       "    .dataframe thead th {\n",
       "        text-align: right;\n",
       "    }\n",
       "</style>\n",
       "<table border=\"1\" class=\"dataframe\">\n",
       "  <thead>\n",
       "    <tr style=\"text-align: right;\">\n",
       "      <th></th>\n",
       "      <th>company</th>\n",
       "      <th>level</th>\n",
       "      <th>title</th>\n",
       "      <th>totalyearlycompensation</th>\n",
       "      <th>location</th>\n",
       "      <th>yearsofexperience</th>\n",
       "      <th>yearsatcompany</th>\n",
       "      <th>basesalary</th>\n",
       "      <th>stockgrantvalue</th>\n",
       "      <th>bonus</th>\n",
       "      <th>gender</th>\n",
       "      <th>Masters_Degree</th>\n",
       "      <th>Bachelors_Degree</th>\n",
       "      <th>Doctorate_Degree</th>\n",
       "      <th>Highschool</th>\n",
       "      <th>old_company_yrs</th>\n",
       "    </tr>\n",
       "  </thead>\n",
       "  <tbody>\n",
       "    <tr>\n",
       "      <th>0</th>\n",
       "      <td>Oracle</td>\n",
       "      <td>L3</td>\n",
       "      <td>Product Manager</td>\n",
       "      <td>127000</td>\n",
       "      <td>Redwood City, CA</td>\n",
       "      <td>1.5</td>\n",
       "      <td>1.5</td>\n",
       "      <td>107000.0</td>\n",
       "      <td>20000.0</td>\n",
       "      <td>10000.0</td>\n",
       "      <td>NaN</td>\n",
       "      <td>0</td>\n",
       "      <td>0</td>\n",
       "      <td>0</td>\n",
       "      <td>0</td>\n",
       "      <td>0.0</td>\n",
       "    </tr>\n",
       "    <tr>\n",
       "      <th>1</th>\n",
       "      <td>eBay</td>\n",
       "      <td>SE 2</td>\n",
       "      <td>Software Engineer</td>\n",
       "      <td>100000</td>\n",
       "      <td>San Francisco, CA</td>\n",
       "      <td>5.0</td>\n",
       "      <td>3.0</td>\n",
       "      <td>0.0</td>\n",
       "      <td>0.0</td>\n",
       "      <td>0.0</td>\n",
       "      <td>NaN</td>\n",
       "      <td>0</td>\n",
       "      <td>0</td>\n",
       "      <td>0</td>\n",
       "      <td>0</td>\n",
       "      <td>2.0</td>\n",
       "    </tr>\n",
       "    <tr>\n",
       "      <th>2</th>\n",
       "      <td>Amazon</td>\n",
       "      <td>L7</td>\n",
       "      <td>Product Manager</td>\n",
       "      <td>310000</td>\n",
       "      <td>Seattle, WA</td>\n",
       "      <td>8.0</td>\n",
       "      <td>0.0</td>\n",
       "      <td>155000.0</td>\n",
       "      <td>0.0</td>\n",
       "      <td>0.0</td>\n",
       "      <td>NaN</td>\n",
       "      <td>0</td>\n",
       "      <td>0</td>\n",
       "      <td>0</td>\n",
       "      <td>0</td>\n",
       "      <td>8.0</td>\n",
       "    </tr>\n",
       "    <tr>\n",
       "      <th>3</th>\n",
       "      <td>Apple</td>\n",
       "      <td>M1</td>\n",
       "      <td>Software Engineering Manager</td>\n",
       "      <td>372000</td>\n",
       "      <td>Sunnyvale, CA</td>\n",
       "      <td>7.0</td>\n",
       "      <td>5.0</td>\n",
       "      <td>157000.0</td>\n",
       "      <td>180000.0</td>\n",
       "      <td>35000.0</td>\n",
       "      <td>NaN</td>\n",
       "      <td>0</td>\n",
       "      <td>0</td>\n",
       "      <td>0</td>\n",
       "      <td>0</td>\n",
       "      <td>2.0</td>\n",
       "    </tr>\n",
       "    <tr>\n",
       "      <th>4</th>\n",
       "      <td>Microsoft</td>\n",
       "      <td>60</td>\n",
       "      <td>Software Engineer</td>\n",
       "      <td>157000</td>\n",
       "      <td>Mountain View, CA</td>\n",
       "      <td>5.0</td>\n",
       "      <td>3.0</td>\n",
       "      <td>0.0</td>\n",
       "      <td>0.0</td>\n",
       "      <td>0.0</td>\n",
       "      <td>NaN</td>\n",
       "      <td>0</td>\n",
       "      <td>0</td>\n",
       "      <td>0</td>\n",
       "      <td>0</td>\n",
       "      <td>2.0</td>\n",
       "    </tr>\n",
       "    <tr>\n",
       "      <th>5</th>\n",
       "      <td>Microsoft</td>\n",
       "      <td>63</td>\n",
       "      <td>Software Engineer</td>\n",
       "      <td>208000</td>\n",
       "      <td>Seattle, WA</td>\n",
       "      <td>8.5</td>\n",
       "      <td>8.5</td>\n",
       "      <td>0.0</td>\n",
       "      <td>0.0</td>\n",
       "      <td>0.0</td>\n",
       "      <td>NaN</td>\n",
       "      <td>0</td>\n",
       "      <td>0</td>\n",
       "      <td>0</td>\n",
       "      <td>0</td>\n",
       "      <td>0.0</td>\n",
       "    </tr>\n",
       "    <tr>\n",
       "      <th>6</th>\n",
       "      <td>Microsoft</td>\n",
       "      <td>65</td>\n",
       "      <td>Software Engineering Manager</td>\n",
       "      <td>300000</td>\n",
       "      <td>Redmond, WA</td>\n",
       "      <td>15.0</td>\n",
       "      <td>11.0</td>\n",
       "      <td>180000.0</td>\n",
       "      <td>65000.0</td>\n",
       "      <td>55000.0</td>\n",
       "      <td>NaN</td>\n",
       "      <td>0</td>\n",
       "      <td>0</td>\n",
       "      <td>0</td>\n",
       "      <td>0</td>\n",
       "      <td>4.0</td>\n",
       "    </tr>\n",
       "    <tr>\n",
       "      <th>7</th>\n",
       "      <td>Microsoft</td>\n",
       "      <td>62</td>\n",
       "      <td>Software Engineer</td>\n",
       "      <td>156000</td>\n",
       "      <td>Seattle, WA</td>\n",
       "      <td>4.0</td>\n",
       "      <td>4.0</td>\n",
       "      <td>135000.0</td>\n",
       "      <td>8000.0</td>\n",
       "      <td>13000.0</td>\n",
       "      <td>NaN</td>\n",
       "      <td>0</td>\n",
       "      <td>0</td>\n",
       "      <td>0</td>\n",
       "      <td>0</td>\n",
       "      <td>0.0</td>\n",
       "    </tr>\n",
       "    <tr>\n",
       "      <th>8</th>\n",
       "      <td>Microsoft</td>\n",
       "      <td>59</td>\n",
       "      <td>Software Engineer</td>\n",
       "      <td>120000</td>\n",
       "      <td>Redmond, WA</td>\n",
       "      <td>3.0</td>\n",
       "      <td>1.0</td>\n",
       "      <td>0.0</td>\n",
       "      <td>0.0</td>\n",
       "      <td>0.0</td>\n",
       "      <td>NaN</td>\n",
       "      <td>0</td>\n",
       "      <td>0</td>\n",
       "      <td>0</td>\n",
       "      <td>0</td>\n",
       "      <td>2.0</td>\n",
       "    </tr>\n",
       "    <tr>\n",
       "      <th>9</th>\n",
       "      <td>Microsoft</td>\n",
       "      <td>63</td>\n",
       "      <td>Software Engineer</td>\n",
       "      <td>201000</td>\n",
       "      <td>Seattle, WA</td>\n",
       "      <td>12.0</td>\n",
       "      <td>6.0</td>\n",
       "      <td>157000.0</td>\n",
       "      <td>26000.0</td>\n",
       "      <td>28000.0</td>\n",
       "      <td>NaN</td>\n",
       "      <td>0</td>\n",
       "      <td>0</td>\n",
       "      <td>0</td>\n",
       "      <td>0</td>\n",
       "      <td>6.0</td>\n",
       "    </tr>\n",
       "  </tbody>\n",
       "</table>\n",
       "</div>"
      ],
      "text/plain": [
       "     company level                         title  totalyearlycompensation  \\\n",
       "0     Oracle    L3               Product Manager                   127000   \n",
       "1       eBay  SE 2             Software Engineer                   100000   \n",
       "2     Amazon    L7               Product Manager                   310000   \n",
       "3      Apple    M1  Software Engineering Manager                   372000   \n",
       "4  Microsoft    60             Software Engineer                   157000   \n",
       "5  Microsoft    63             Software Engineer                   208000   \n",
       "6  Microsoft    65  Software Engineering Manager                   300000   \n",
       "7  Microsoft    62             Software Engineer                   156000   \n",
       "8  Microsoft    59             Software Engineer                   120000   \n",
       "9  Microsoft    63             Software Engineer                   201000   \n",
       "\n",
       "            location  yearsofexperience  yearsatcompany  basesalary  \\\n",
       "0   Redwood City, CA                1.5             1.5    107000.0   \n",
       "1  San Francisco, CA                5.0             3.0         0.0   \n",
       "2        Seattle, WA                8.0             0.0    155000.0   \n",
       "3      Sunnyvale, CA                7.0             5.0    157000.0   \n",
       "4  Mountain View, CA                5.0             3.0         0.0   \n",
       "5        Seattle, WA                8.5             8.5         0.0   \n",
       "6        Redmond, WA               15.0            11.0    180000.0   \n",
       "7        Seattle, WA                4.0             4.0    135000.0   \n",
       "8        Redmond, WA                3.0             1.0         0.0   \n",
       "9        Seattle, WA               12.0             6.0    157000.0   \n",
       "\n",
       "   stockgrantvalue    bonus gender  Masters_Degree  Bachelors_Degree  \\\n",
       "0          20000.0  10000.0    NaN               0                 0   \n",
       "1              0.0      0.0    NaN               0                 0   \n",
       "2              0.0      0.0    NaN               0                 0   \n",
       "3         180000.0  35000.0    NaN               0                 0   \n",
       "4              0.0      0.0    NaN               0                 0   \n",
       "5              0.0      0.0    NaN               0                 0   \n",
       "6          65000.0  55000.0    NaN               0                 0   \n",
       "7           8000.0  13000.0    NaN               0                 0   \n",
       "8              0.0      0.0    NaN               0                 0   \n",
       "9          26000.0  28000.0    NaN               0                 0   \n",
       "\n",
       "   Doctorate_Degree  Highschool  old_company_yrs  \n",
       "0                 0           0              0.0  \n",
       "1                 0           0              2.0  \n",
       "2                 0           0              8.0  \n",
       "3                 0           0              2.0  \n",
       "4                 0           0              2.0  \n",
       "5                 0           0              0.0  \n",
       "6                 0           0              4.0  \n",
       "7                 0           0              0.0  \n",
       "8                 0           0              2.0  \n",
       "9                 0           0              6.0  "
      ]
     },
     "execution_count": 23,
     "metadata": {},
     "output_type": "execute_result"
    }
   ],
   "source": [
    "new_df.head(10)"
   ]
  },
  {
   "cell_type": "markdown",
   "id": "22904d82",
   "metadata": {
    "papermill": {
     "duration": 0.038913,
     "end_time": "2021-11-10T09:42:02.305825",
     "exception": false,
     "start_time": "2021-11-10T09:42:02.266912",
     "status": "completed"
    },
    "tags": []
   },
   "source": [
    "# Old Company Vs Present Company years spend %"
   ]
  },
  {
   "cell_type": "code",
   "execution_count": 24,
   "id": "13b3640c",
   "metadata": {
    "execution": {
     "iopub.execute_input": "2021-11-10T09:42:02.464805Z",
     "iopub.status.busy": "2021-11-10T09:42:02.464116Z",
     "iopub.status.idle": "2021-11-10T09:42:02.472360Z",
     "shell.execute_reply": "2021-11-10T09:42:02.472898Z",
     "shell.execute_reply.started": "2021-11-10T09:40:25.795481Z"
    },
    "papermill": {
     "duration": 0.127671,
     "end_time": "2021-11-10T09:42:02.473093",
     "exception": false,
     "start_time": "2021-11-10T09:42:02.345422",
     "status": "completed"
    },
    "tags": []
   },
   "outputs": [
    {
     "data": {
      "text/plain": [
       "[{'year': 'Present company - yrs in %', 'value': 2.7020929408384147},\n",
       " {'year': 'old Company - yrs in %', 'value': 4.502042144248268}]"
      ]
     },
     "execution_count": 24,
     "metadata": {},
     "output_type": "execute_result"
    }
   ],
   "source": [
    "years = []\n",
    "years.append({\n",
    "    'year' : 'Present company - yrs in %',\n",
    "    'value': new_df['yearsatcompany'].mean()\n",
    "})\n",
    "years.append({\n",
    "    'year' : 'old Company - yrs in %',\n",
    "    'value': new_df['old_company_yrs'].mean()\n",
    "})\n",
    "years"
   ]
  },
  {
   "cell_type": "code",
   "execution_count": 25,
   "id": "bfe7306d",
   "metadata": {
    "execution": {
     "iopub.execute_input": "2021-11-10T09:42:02.555652Z",
     "iopub.status.busy": "2021-11-10T09:42:02.554978Z",
     "iopub.status.idle": "2021-11-10T09:42:02.560712Z",
     "shell.execute_reply": "2021-11-10T09:42:02.561272Z",
     "shell.execute_reply.started": "2021-11-10T09:40:25.814258Z"
    },
    "papermill": {
     "duration": 0.048685,
     "end_time": "2021-11-10T09:42:02.561456",
     "exception": false,
     "start_time": "2021-11-10T09:42:02.512771",
     "status": "completed"
    },
    "tags": []
   },
   "outputs": [],
   "source": [
    "years = pd.DataFrame(years, columns = ['year','value'])\n",
    "years['value']=years['value'].astype(float)"
   ]
  },
  {
   "cell_type": "code",
   "execution_count": 26,
   "id": "c0e03571",
   "metadata": {
    "execution": {
     "iopub.execute_input": "2021-11-10T09:42:02.645457Z",
     "iopub.status.busy": "2021-11-10T09:42:02.644771Z",
     "iopub.status.idle": "2021-11-10T09:42:02.761916Z",
     "shell.execute_reply": "2021-11-10T09:42:02.762521Z",
     "shell.execute_reply.started": "2021-11-10T09:40:25.827114Z"
    },
    "papermill": {
     "duration": 0.160529,
     "end_time": "2021-11-10T09:42:02.762705",
     "exception": false,
     "start_time": "2021-11-10T09:42:02.602176",
     "status": "completed"
    },
    "tags": []
   },
   "outputs": [
    {
     "data": {
      "image/png": "[encoded data removed]",
      "text/plain": [
       "<Figure size 432x288 with 1 Axes>"
      ]
     },
     "metadata": {},
     "output_type": "display_data"
    }
   ],
   "source": [
    "plt.pie(years['value'] , labels = years['year'],autopct='%.0f%%' ,colors=colors, radius = 2  ,shadow = True)\n",
    "plt.show()"
   ]
  },
  {
   "cell_type": "markdown",
   "id": "e8def708",
   "metadata": {
    "papermill": {
     "duration": 0.041329,
     "end_time": "2021-11-10T09:42:02.844883",
     "exception": false,
     "start_time": "2021-11-10T09:42:02.803554",
     "status": "completed"
    },
    "tags": []
   },
   "source": [
    "# Gender Distribution"
   ]
  },
  {
   "cell_type": "code",
   "execution_count": 27,
   "id": "a9b4e52a",
   "metadata": {
    "execution": {
     "iopub.execute_input": "2021-11-10T09:42:02.930536Z",
     "iopub.status.busy": "2021-11-10T09:42:02.929825Z",
     "iopub.status.idle": "2021-11-10T09:42:02.961650Z",
     "shell.execute_reply": "2021-11-10T09:42:02.961100Z",
     "shell.execute_reply.started": "2021-11-10T09:40:25.961613Z"
    },
    "papermill": {
     "duration": 0.076056,
     "end_time": "2021-11-10T09:42:02.961803",
     "exception": false,
     "start_time": "2021-11-10T09:42:02.885747",
     "status": "completed"
    },
    "tags": []
   },
   "outputs": [],
   "source": [
    "raw_company_list = new_df[\"company\"].value_counts()[0:20].reset_index()\n",
    "company_list = raw_company_list['index'].values.tolist()\n",
    "data = new_df[new_df['company'].isin(company_list)]\n"
   ]
  },
  {
   "cell_type": "code",
   "execution_count": 28,
   "id": "36cb970e",
   "metadata": {
    "execution": {
     "iopub.execute_input": "2021-11-10T09:42:03.062864Z",
     "iopub.status.busy": "2021-11-10T09:42:03.062188Z",
     "iopub.status.idle": "2021-11-10T09:42:03.304170Z",
     "shell.execute_reply": "2021-11-10T09:42:03.303346Z",
     "shell.execute_reply.started": "2021-11-10T09:40:25.997829Z"
    },
    "papermill": {
     "duration": 0.301269,
     "end_time": "2021-11-10T09:42:03.304352",
     "exception": false,
     "start_time": "2021-11-10T09:42:03.003083",
     "status": "completed"
    },
    "tags": []
   },
   "outputs": [
    {
     "data": {
      "text/plain": [
       "<AxesSubplot:xlabel='gender', ylabel='count'>"
      ]
     },
     "execution_count": 28,
     "metadata": {},
     "output_type": "execute_result"
    },
    {
     "data": {
      "image/png": "[encoded data removed]",
      "text/plain": [
       "<Figure size 432x288 with 1 Axes>"
      ]
     },
     "metadata": {
      "needs_background": "light"
     },
     "output_type": "display_data"
    }
   ],
   "source": [
    "sns.countplot(data = data, x = 'gender', palette=\"Reds\")"
   ]
  },
  {
   "cell_type": "markdown",
   "id": "50e1b38a",
   "metadata": {
    "papermill": {
     "duration": 0.042905,
     "end_time": "2021-11-10T09:42:03.389451",
     "exception": false,
     "start_time": "2021-11-10T09:42:03.346546",
     "status": "completed"
    },
    "tags": []
   },
   "source": [
    "# Thank you !!\n",
    "Please upvote if you liked my work !!"
   ]
  }
 ],
 "metadata": {
  "kernelspec": {
   "display_name": "Python 3",
   "language": "python",
   "name": "python3"
  },
  "language_info": {
   "codemirror_mode": {
    "name": "ipython",
    "version": 3
   },
   "file_extension": ".py",
   "mimetype": "text/x-python",
   "name": "python",
   "nbconvert_exporter": "python",
   "pygments_lexer": "ipython3",
   "version": "3.7.10"
  },
  "papermill": {
   "default_parameters": {},
   "duration": 16.794857,
   "end_time": "2021-11-10T09:42:04.144617",
   "environment_variables": {},
   "exception": null,
   "input_path": "__notebook__.ipynb",
   "output_path": "__notebook__.ipynb",
   "parameters": {},
   "start_time": "2021-11-10T09:41:47.349760",
   "version": "2.3.3"
  }
 },
 "nbformat": 4,
 "nbformat_minor": 5
}
